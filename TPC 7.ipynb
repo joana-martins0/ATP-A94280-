{
 "cells": [
  {
   "cell_type": "markdown",
   "metadata": {},
   "source": [
    "# Manifesto"
   ]
  },
  {
   "cell_type": "markdown",
   "metadata": {},
   "source": [
    "---"
   ]
  },
  {
   "cell_type": "markdown",
   "metadata": {},
   "source": [
    "+ **KEY NAME**: TPC7\n",
    "+ **TITLE**: \"Processamento de Datasets\"\n",
    "+ **SUBTITLE**: Manifesto\n",
    "+ **BEGINING DATA**:22-11-2021\n",
    "+ **ENDING DATA**:28-11-2021\n",
    "+ **SUPERVISOR**: José Carlos Ramalho\n",
    "+ **AUTHOR**: Joana Martins, A9420\n"
   ]
  },
  {
   "cell_type": "markdown",
   "metadata": {},
   "source": [
    "## Resumo"
   ]
  },
  {
   "cell_type": "markdown",
   "metadata": {},
   "source": [
    "---"
   ]
  },
  {
   "cell_type": "markdown",
   "metadata": {},
   "source": [
    "O trabalho apresentado pretende resolver o problema proposto para o TPC relativamente ao processamento de Datasets. O documento alunos-windows.csv foi utilizado para a realização dos exercícios propostos. \n",
    "O processamento deste Dataset foi feito através de funções que permitem a leitura, listagem, consulta de um registo, top 10 dos alunos com as 10 melhores médias, distribuição de alunos por curso e o respetivo gráfico e a distribuição de alunos por média e o seu respetivo gráfico.\n",
    "\n"
   ]
  },
  {
   "cell_type": "markdown",
   "metadata": {},
   "source": [
    "---"
   ]
  },
  {
   "cell_type": "markdown",
   "metadata": {},
   "source": [
    "### **Code:**"
   ]
  },
  {
   "cell_type": "code",
   "execution_count": 6,
   "metadata": {},
   "outputs": [
    {
     "ename": "FileNotFoundError",
     "evalue": "[Errno 2] No such file or directory: 'alunos.csv'",
     "output_type": "error",
     "traceback": [
      "\u001b[0;31m---------------------------------------------------------------------------\u001b[0m",
      "\u001b[0;31mFileNotFoundError\u001b[0m                         Traceback (most recent call last)",
      "\u001b[0;32m<ipython-input-6-bfb61776d3d0>\u001b[0m in \u001b[0;36m<module>\u001b[0;34m\u001b[0m\n\u001b[1;32m     27\u001b[0m \u001b[0;34m\u001b[0m\u001b[0m\n\u001b[1;32m     28\u001b[0m \u001b[0mBD\u001b[0m \u001b[0;34m=\u001b[0m \u001b[0;34m[\u001b[0m\u001b[0;34m]\u001b[0m\u001b[0;34m\u001b[0m\u001b[0;34m\u001b[0m\u001b[0m\n\u001b[0;32m---> 29\u001b[0;31m \u001b[0mBD\u001b[0m \u001b[0;34m=\u001b[0m \u001b[0mlerDataset\u001b[0m\u001b[0;34m(\u001b[0m\u001b[0;34m\"alunos.csv\"\u001b[0m\u001b[0;34m)\u001b[0m\u001b[0;34m\u001b[0m\u001b[0;34m\u001b[0m\u001b[0m\n\u001b[0m\u001b[1;32m     30\u001b[0m \u001b[0;34m\u001b[0m\u001b[0m\n\u001b[1;32m     31\u001b[0m \u001b[0;31m##Listagem (exercício 2)\u001b[0m\u001b[0;34m\u001b[0m\u001b[0;34m\u001b[0m\u001b[0;34m\u001b[0m\u001b[0m\n",
      "\u001b[0;32m<ipython-input-6-bfb61776d3d0>\u001b[0m in \u001b[0;36mlerDataset\u001b[0;34m(fnome)\u001b[0m\n\u001b[1;32m     19\u001b[0m \u001b[0;34m\u001b[0m\u001b[0m\n\u001b[1;32m     20\u001b[0m \u001b[0;32mdef\u001b[0m \u001b[0mlerDataset\u001b[0m\u001b[0;34m(\u001b[0m\u001b[0mfnome\u001b[0m\u001b[0;34m)\u001b[0m\u001b[0;34m:\u001b[0m\u001b[0;34m\u001b[0m\u001b[0;34m\u001b[0m\u001b[0m\n\u001b[0;32m---> 21\u001b[0;31m     \u001b[0mf\u001b[0m \u001b[0;34m=\u001b[0m \u001b[0mopen\u001b[0m\u001b[0;34m(\u001b[0m\u001b[0mfnome\u001b[0m\u001b[0;34m,\u001b[0m\u001b[0mencoding\u001b[0m\u001b[0;34m=\u001b[0m\u001b[0;34m\"utf-8\"\u001b[0m\u001b[0;34m)\u001b[0m\u001b[0;34m\u001b[0m\u001b[0;34m\u001b[0m\u001b[0m\n\u001b[0m\u001b[1;32m     22\u001b[0m     \u001b[0mbd\u001b[0m\u001b[0;34m=\u001b[0m\u001b[0;34m[\u001b[0m\u001b[0;34m]\u001b[0m\u001b[0;34m\u001b[0m\u001b[0;34m\u001b[0m\u001b[0m\n\u001b[1;32m     23\u001b[0m     \u001b[0mf\u001b[0m\u001b[0;34m.\u001b[0m\u001b[0mreadline\u001b[0m\u001b[0;34m(\u001b[0m\u001b[0;34m)\u001b[0m\u001b[0;34m\u001b[0m\u001b[0;34m\u001b[0m\u001b[0m\n",
      "\u001b[0;31mFileNotFoundError\u001b[0m: [Errno 2] No such file or directory: 'alunos.csv'"
     ]
    }
   ],
   "source": [
    "# Leitura (exercício 1)\n",
    "\n",
    "def convInt(s):\n",
    "    return int(s)\n",
    "\n",
    "def getAluno(texto):\n",
    "    textoLimpo2=texto.replace(\"\\\"\",\"\") \n",
    "    campos=textoLimpo2.split(\",\")\n",
    "    aluno=[]\n",
    "    aluno.append(campos[0])\n",
    "    aluno.append(campos[1])\n",
    "    aluno.append(campos[2])\n",
    "    aluno.append(campos[3:])\n",
    "    lista=[]\n",
    "    for s in aluno[3]:\n",
    "        s=lista.append(int(s))\n",
    "    aluno[3]=lista\n",
    "    return aluno\n",
    "\n",
    "def lerDataset(fnome):\n",
    "    f = open(fnome,encoding=\"utf-8\")\n",
    "    bd=[]\n",
    "    f.readline()\n",
    "    for linha in f:\n",
    "        bd.append(getAluno(linha))\n",
    "    return bd\n",
    "\n",
    "BD = []\n",
    "BD = lerDataset(\"alunos.csv\")\n",
    "\n",
    "##Listagem (exercício 2)\n",
    "\n",
    "# Listagem da informaaçao\n",
    "def chaveOrd(aluno):\n",
    "    return(int(aluno[0].replace(\"a\",\"\")))\n",
    "\n",
    "\n",
    "def listarDataset(bd):\n",
    "    bd.sort(key=chaveOrd)\n",
    "    print(\" id   nome  curso   média\")\n",
    "    print(\"-------------------------\")\n",
    "    for a in bd:\n",
    "        print(a[0]+\"|\"+a[1]+\"|\"+a[2]+\"|\"+str(sum(a[3])/4))\n",
    "\n",
    "listarDataset(BD)\n",
    "    \n",
    "##Consulta de um registo (exercício 3)\n",
    "\n",
    "# Consulta de um registo\n",
    "def media(L):\n",
    "    m=0\n",
    "    for elem in L:\n",
    "        m=m + elem\n",
    "    m=m/len(L)\n",
    "    return(m)\n",
    "\n",
    "def consultarDataset(bd, id):\n",
    "        i=1\n",
    "        encontrado = False\n",
    "        while i!=len(bd) and not encontrado:\n",
    "            aluno=bd[i]\n",
    "            if aluno[0]==id:\n",
    "                encontrado=True\n",
    "                return(aluno,media(aluno[3]))\n",
    "            else:\n",
    "                i=i+1\n",
    "        if not encontrado:\n",
    "            print(\"Não existe nenhum aluno com esse id\")\n",
    "        \n",
    "##Top 10 (exercício 4)\n",
    "\n",
    "def chaveOrd1(aluno):\n",
    "    return(aluno[3])\n",
    "\n",
    "def list10(bd):\n",
    "    top=bd\n",
    "    for elem in top:\n",
    "        elem[3]=media(elem[3])\n",
    "    top.sort(key=chaveOrd1)\n",
    "    top.reverse()\n",
    "    top10=top[:10]\n",
    "    print(top10)\n",
    "    return\n",
    "list10(BD)\n",
    "\n",
    "##Distribuição por curso (exercíccio 5)\n",
    "\n",
    "def distribPorCurso(bd):\n",
    "    distribuicao={}\n",
    "    for a in bd:\n",
    "        if a[2] in distribuicao.keys():\n",
    "            distribuicao[a[2]]= distribuicao[a[2]]+1\n",
    "        else:\n",
    "            distribuicao[a[2]]= 1\n",
    "    return distribuicao\n",
    "\n",
    "d=distribPorCurso(BD)\n",
    "print(d)\n",
    "\n",
    "##Distribuição por médias (exercício 6)\n",
    "\n",
    "def distribPorMedia(bd):\n",
    "    distribuicao={}\n",
    "    for a in bd:\n",
    "        m=media(a[3])\n",
    "        if m in distribuicao.keys():\n",
    "            distribuicao[m]= distribuicao[m]+1\n",
    "        else:\n",
    "            distribuicao[m]= 1\n",
    "    return distribuicao\n",
    "\n",
    "dM=distribPorMedia(BD)\n",
    "print(dM)\n",
    "\n",
    "\n",
    "##Gráfico da distribuição por curso (exercício 7)\n",
    "\n",
    "import matplotlib.pyplot as plt\n",
    "import numpy as np\n",
    "\n",
    "def plotDistribPorCurso(d):\n",
    "    cursos=d.keys()\n",
    "    nalunos=d.values()\n",
    "    plt.bar(cursos,nalunos)\n",
    "    plt.ylabel(\"Nº Alunos\")\n",
    "    plt.xlabel(\"Cursos\")\n",
    "    plt.show()\n",
    "\n",
    "plotDistribPorCurso(d)\n",
    "    \n",
    "    \n",
    "##Gráfico da distribuição por média (exercício 8)\n",
    "\n",
    "def plotDistribPorMedia(dM):\n",
    "    medias=dM.keys()\n",
    "    na=dM.values()\n",
    "    plt.bar(medias,na)\n",
    "    plt.xlabel(\"Média\")\n",
    "    plt.ylabel(\"Alunos\")\n",
    "    plt.show()\n",
    "\n",
    "plotDistribPorMedia(dM)\n",
    "    "
   ]
  },
  {
   "cell_type": "code",
   "execution_count": null,
   "metadata": {},
   "outputs": [],
   "source": []
  }
 ],
 "metadata": {
  "kernelspec": {
   "display_name": "Python 3",
   "language": "python",
   "name": "python3"
  },
  "language_info": {
   "codemirror_mode": {
    "name": "ipython",
    "version": 3
   },
   "file_extension": ".py",
   "mimetype": "text/x-python",
   "name": "python",
   "nbconvert_exporter": "python",
   "pygments_lexer": "ipython3",
   "version": "3.8.3"
  }
 },
 "nbformat": 4,
 "nbformat_minor": 4
}
