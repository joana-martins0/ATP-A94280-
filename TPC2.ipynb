{
 "cells": [
  {
   "cell_type": "code",
   "execution_count": null,
   "metadata": {},
   "outputs": [],
   "source": [
    "• Crie um programa em Python para jogar o jogo \"Adivinha o número\":\n",
    "• O jogo pode ter 2 modalidades: computador pensa num número (entre 0 e 100), utilizador tenta adivinhar; ou, o utilizador pensa num número (entre 0 e 100) e o computador tenta adivinhar;\n",
    "• Quem tenta adivinhar responde com uma das afirmações: \"Acertou\", \"O número que pensei é Maior\" ou \"O número que pensei é Menor\";\n",
    "• Uma vez descoberto o número o programa deverá terminar imprimindo o número de tentativas que quem adivinhou usou para chegar ao resultado.\n"
   ]
  },
  {
   "cell_type": "code",
   "execution_count": null,
   "metadata": {},
   "outputs": [],
   "source": [
    "import random\n",
    "numero = random.randint(0, 100)\n",
    "contador = 0\n",
    "jogador = int(input(\"Introduza um número de 0 a 100\"))\n",
    "while numero != jogador:\n",
    "    if numero < jogador:\n",
    "        print(\"O número que pensei é Menor\")\n",
    "    elif numero > jogador:\n",
    "            print(\"O número que pensei é Maior\")  \n",
    "    jogador = int(input(\"Introduza um número\"))\n",
    "    contador = contador + 1\n",
    "        \n",
    "print(\"Acertou com\", contador, \"tentativas!\", \"O número era\", numero)\n",
    "\n",
    "import random\n",
    "numero = int(input(\"Escolha um número de 0 a 100 para ser adivinhado\"))\n",
    "contador = 0\n",
    "computador = random.randint(0, 100)\n",
    "while computador != numero:\n",
    "    if computador < numero:\n",
    "        print(\"O número que pensei é Maior\")\n",
    "    elif computador > numero:\n",
    "        print(\"O número que pensei é Menor\")\n",
    "    contador = contador + 1\n",
    "    computador = random.randint(0, 100)\n",
    "    print(\"Acertou!\")\n",
    "    \n",
    "\n",
    "print(\"Acertou com\", contador, \"tentativas!\", \"O número era\", numero) "
   ]
  },
  {
   "cell_type": "code",
   "execution_count": null,
   "metadata": {},
   "outputs": [],
   "source": []
  }
 ],
 "metadata": {
  "kernelspec": {
   "display_name": "Python 3",
   "language": "python",
   "name": "python3"
  },
  "language_info": {
   "codemirror_mode": {
    "name": "ipython",
    "version": 3
   },
   "file_extension": ".py",
   "mimetype": "text/x-python",
   "name": "python",
   "nbconvert_exporter": "python",
   "pygments_lexer": "ipython3",
   "version": "3.8.3"
  }
 },
 "nbformat": 4,
 "nbformat_minor": 4
}
