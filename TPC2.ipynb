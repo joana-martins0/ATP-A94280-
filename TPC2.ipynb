{
 "cells": [
  {
   "cell_type": "markdown",
   "metadata": {},
   "source": [
    "# Manifesto"
   ]
  },
  {
   "cell_type": "markdown",
   "metadata": {},
   "source": [
    "---"
   ]
  },
  {
   "cell_type": "markdown",
   "metadata": {},
   "source": [
    "+ **KEY NAME**: TPC2\n",
    "+ **TITLE**: \"Jogo de adivinhar o número\"\n",
    "+ **SUBTITLE**: Manifesto\n",
    "+ **BEGINING DATA**: \n",
    "+ **ENDING DATA**:\n",
    "+ **SUPERVISOR**: José Carlos Ramalho\n",
    "+ **AUTHOR**: Francisca Pereira, A94570\n"
   ]
  },
  {
   "cell_type": "markdown",
   "metadata": {},
   "source": [
    "---"
   ]
  },
  {
   "cell_type": "markdown",
   "metadata": {},
   "source": [
    "### **Abstract:**"
   ]
  },
  {
   "cell_type": "markdown",
   "metadata": {},
   "source": [
    "O objetivo do jogo é o utilizador escolher um número inteiro de 0 a 100 e o computador tem de adivinhá-lo no menor número de jogadas possíveis com as indicações cima (o número escolhido pelo jogador está acima do indicado pelo computador) ou baixo (o número escolhido pelo jogador está abaixo do indicado pelo computador). Quando o número sugerido pelo computador for o correto, o jogador responde sim e o jogo termina."
   ]
  },
  {
   "cell_type": "markdown",
   "metadata": {},
   "source": [
    "---"
   ]
  },
  {
   "cell_type": "markdown",
   "metadata": {},
   "source": [
    "### **Code:**"
   ]
  },
  {
   "cell_type": "code",
   "execution_count": null,
   "metadata": {},
   "outputs": [],
   "source": [
    "def adivinha_numero():\n",
    "    print(\"Bem vindo! Vou adivinhar um número que estás a pensar no menor número de tentativas possíveis!\")\n",
    "    n=50\n",
    "    nn=int(n//2)\n",
    "    a=input(\"O seu número é {}?\".format(n))\n",
    "    while a==\"Não\" or a==\"não\":\n",
    "        b=input(\"É maior(+/>) ou menor(-/<)?\")\n",
    "        if b== \"maior\":\n",
    "            n=n+nn\n",
    "            if nn>1:\n",
    "                nn=(nn//2)\n",
    "                a=input(\"O seu número é {}?\".format(n))\n",
    "            if nn<=1:\n",
    "                nn=1\n",
    "                a=input(\"O seu número é {}?\".format(n))\n",
    "        if b==\"menor\":\n",
    "            n=n-nn\n",
    "            if nn>1:\n",
    "                nn=(nn//2)\n",
    "                a=input(\"O seu número é {}?\".format(n))\n",
    "            if nn<=1:\n",
    "                nn=1\n",
    "                a=input(\"O seu número é {}?\".format(n))\n",
    "    if a==\"Sim\" or a==\"sim\" or a==\"S\" or a==\"s\": \n",
    "        print(\"O numrero que pensaste é\", n,\"!\")\n",
    "\n",
    "adivinha_numero()"
   ]
  }
 ],
 "metadata": {
  "kernelspec": {
   "display_name": "Python 3",
   "language": "python",
   "name": "python3"
  },
  "language_info": {
   "codemirror_mode": {
    "name": "ipython",
    "version": 3
   },
   "file_extension": ".py",
   "mimetype": "text/x-python",
   "name": "python",
   "nbconvert_exporter": "python",
   "pygments_lexer": "ipython3",
   "version": "3.8.3"
  }
 },
 "nbformat": 4,
 "nbformat_minor": 4
}
