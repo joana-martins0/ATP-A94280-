{
 "cells": [
  {
   "cell_type": "markdown",
   "metadata": {},
   "source": [
    "# Aula teorica 8: Mnipulação de estruturas de dados "
   ]
  },
  {
   "cell_type": "code",
   "execution_count": null,
   "metadata": {},
   "outputs": [],
   "source": [
    "legumas = [\"cenouras\":6,\"batatas\":20, \"cebolas\": 12]\n",
    "frutas = [\"tangerinas\":30, \"pêras\":8, \"bananas\":6, \"romas\":2 ]\n",
    "carcutaria = [\"fiambre\":10, \"queijo\":16, \"couriço\":1]\n",
    "listaCompras = []\n",
    "for chave in legumes.keys():\n",
    "    listaCompras[chave] = legumes[chave]\n",
    "for chave in "
   ]
  },
  {
   "cell_type": "markdown",
   "metadata": {},
   "source": [
    "## Ordenar dicionarios"
   ]
  },
  {
   "cell_type": "code",
   "execution_count": null,
   "metadata": {},
   "outputs": [],
   "source": [
    "def ordenaValores(v):\n",
    "    returnv[1]\n",
    "    \n",
    "# print (listaCompras.items())\n",
    "# valores = sorted (listaCompras.items(), key = lambda x: x[1])\n",
    "valores = list(listaCompras.items())\n",
    "valores.sort(key = ordenValores)\n",
    "novoDict = dict(valores)\n",
    "\n"
   ]
  },
  {
   "cell_type": "code",
   "execution_count": 2,
   "metadata": {},
   "outputs": [
    {
     "ename": "NameError",
     "evalue": "name 'ePar' is not defined",
     "output_type": "error",
     "traceback": [
      "\u001b[0;31m---------------------------------------------------------------------------\u001b[0m",
      "\u001b[0;31mNameError\u001b[0m                                 Traceback (most recent call last)",
      "\u001b[0;32m<ipython-input-2-f0a746a34bc4>\u001b[0m in \u001b[0;36m<module>\u001b[0;34m\u001b[0m\n\u001b[1;32m      3\u001b[0m \u001b[0;34m\u001b[0m\u001b[0m\n\u001b[1;32m      4\u001b[0m \u001b[0;32mfor\u001b[0m \u001b[0mi\u001b[0m \u001b[0;32min\u001b[0m \u001b[0mrange\u001b[0m \u001b[0;34m(\u001b[0m\u001b[0;36m1\u001b[0m\u001b[0;34m,\u001b[0m\u001b[0;36m10\u001b[0m\u001b[0;34m)\u001b[0m\u001b[0;34m:\u001b[0m\u001b[0;34m\u001b[0m\u001b[0;34m\u001b[0m\u001b[0m\n\u001b[0;32m----> 5\u001b[0;31m     \u001b[0mprint\u001b[0m\u001b[0;34m(\u001b[0m\u001b[0mePar\u001b[0m\u001b[0;34m(\u001b[0m\u001b[0mi\u001b[0m\u001b[0;34m)\u001b[0m\u001b[0;34m)\u001b[0m\u001b[0;34m\u001b[0m\u001b[0;34m\u001b[0m\u001b[0m\n\u001b[0m",
      "\u001b[0;31mNameError\u001b[0m: name 'ePar' is not defined"
     ]
    }
   ],
   "source": [
    "def epar(n):\n",
    "    return True if n%2==0 else Flase \n",
    "\n",
    "for i in range (1,10):\n",
    "    print(ePar(i))"
   ]
  },
  {
   "cell_type": "markdown",
   "metadata": {},
   "source": [
    "## Exercicio"
   ]
  },
  {
   "cell_type": "markdown",
   "metadata": {},
   "source": [
    "Escreve um programa em Python que leia um múmero inteiro positivo e crie um dicionario com chaves de 1 até esse número, em que o valor associado a cada chave é o quadrado dessa chave."
   ]
  },
  {
   "cell_type": "code",
   "execution_count": null,
   "metadata": {},
   "outputs": [],
   "source": [
    "numero = int(input(\"Introduza um numero inteiro positivo:\"))\n",
    "dic = {}\n",
    "for i in range(1, numero+1):\n",
    "    dic[i] = i*i\n",
    "print (dic)"
   ]
  },
  {
   "cell_type": "code",
   "execution_count": null,
   "metadata": {},
   "outputs": [],
   "source": [
    "escola = [\n",
    "    {\n",
    "        'nome': \"Ana\",\n",
    "        'instrumento': ['trompete','clarinete','flauta']\n",
    "    },\n",
    "    {\n",
    "        'nome': \"Carlos\",\n",
    "        'intrumentos': ['saxofone', 'flauta', 'piano']\n",
    "    },\n",
    "    {\n",
    "        'nome':\"Paulina\",\n",
    "        'intrumento': ['saxofone','violino', 'piano']\n",
    "    }\n",
    "]\n",
    "\n",
    "def caalc.listaInst(esc):\n",
    "    instrumentos = []\n",
    "    for a in esc:\n",
    "        for i in a ['instrumentos']:\n",
    "            if i not in instrumentos \n",
    "               instrumentos.append(i)\n",
    "    intrumentos.sort()\n",
    "    return instrumentos\n",
    "\n",
    "def calcListaMusicos(esc, i):\n",
    "    musicos = []\n",
    "    for a in esc:\n",
    "        if i in ['intrumentos']:\n",
    "            musicos.append(a,['nome'])\n",
    "    return musicos \n",
    "\n",
    "def indInstruemrntos (esc):\n",
    "    indiceInstrumentos = []\n",
    "    lsitaInst = calcListaInst(esc)\n",
    "    for i in ListaInst:\n",
    "        indiceInstrumentos.append8{\n",
    "            'instrumentos': i,\n",
    "            'musicos':calcMusicos(esc, i)\n",
    "        }\n",
    "        return indiceInsturmntos\n",
    "    "
   ]
  },
  {
   "cell_type": "code",
   "execution_count": null,
   "metadata": {},
   "outputs": [],
   "source": [
    "print (indIntrumentos(escola))"
   ]
  },
  {
   "cell_type": "code",
   "execution_count": null,
   "metadata": {},
   "outputs": [],
   "source": []
  }
 ],
 "metadata": {
  "kernelspec": {
   "display_name": "Python 3",
   "language": "python",
   "name": "python3"
  },
  "language_info": {
   "codemirror_mode": {
    "name": "ipython",
    "version": 3
   },
   "file_extension": ".py",
   "mimetype": "text/x-python",
   "name": "python",
   "nbconvert_exporter": "python",
   "pygments_lexer": "ipython3",
   "version": "3.8.3"
  }
 },
 "nbformat": 4,
 "nbformat_minor": 4
}
