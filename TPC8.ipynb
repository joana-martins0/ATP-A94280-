{
 "cells": [
  {
   "cell_type": "markdown",
   "metadata": {},
   "source": [
    "## Manifesto"
   ]
  },
  {
   "cell_type": "markdown",
   "metadata": {},
   "source": [
    "+ **KEY NAME**: TPC7\n",
    "+ **TITLE**: \"Manipulação de base de dados e utilizaão do GUI\"\n",
    "+ **SUBTITLE**: Manifesto\n",
    "+ **BEGINING DATA**:5-12-2021\n",
    "+ **ENDING DATA**:13-12-2021\n",
    "+ **SUPERVISOR**: José Carlos Ramalho\n",
    "+ **AUTHOR**: Joana Martins, A9420\n"
   ]
  },
  {
   "cell_type": "markdown",
   "metadata": {},
   "source": [
    "# Resumo"
   ]
  },
  {
   "cell_type": "markdown",
   "metadata": {},
   "source": [
    "+ O módulo emd.py foi criado a partir das funções na aula prática.\n",
    "+ O modelo para a interface foi modelada através do modelo da aula teórica para melhor se adaptar ao tpc.\n",
    "+ Na interface aparecem 6 botões, 1 entrada de texto e uma listbox.\n",
    "+ O botão \"Carregar base de dados\" necessita que o utilizador escreva previamente o nome do ficheiro na entrada de texto, e carrega então na base de dados.\n",
    "+ O botão \"Listar base de dados\" apresenta 4 aspetos da base de dados na forma de lista: id,  data, nome, apto; dados apresentam-se ordenados.\n",
    "+ O botão \"Modalidades\" lista todas as modalidades presentes na base de dados, praticadas por cada pessoa.\n",
    "+ O botão \"Distribuições\" abre uma nova janela que permite escolher o tipo de distribuição (por modalidades,clube ou ano), criar um gráfico da distribuição escolhida (embora não esteja incorporado na aplicação,funciona no editor), e um botão para sair.\n",
    "+ Relativamente ao painel principal há ainda um botão \"Limpar\" para apagar o conteúdo da listbox e outro botão para sair."
   ]
  },
  {
   "cell_type": "markdown",
   "metadata": {},
   "source": [
    "## Code "
   ]
  },
  {
   "cell_type": "code",
   "execution_count": 2,
   "metadata": {},
   "outputs": [
    {
     "ename": "ModuleNotFoundError",
     "evalue": "No module named 'emd'",
     "output_type": "error",
     "traceback": [
      "\u001b[0;31m---------------------------------------------------------------------------\u001b[0m",
      "\u001b[0;31mModuleNotFoundError\u001b[0m                       Traceback (most recent call last)",
      "\u001b[0;32m<ipython-input-2-988618b06a42>\u001b[0m in \u001b[0;36m<module>\u001b[0;34m\u001b[0m\n\u001b[0;32m----> 1\u001b[0;31m \u001b[0;32mimport\u001b[0m \u001b[0memd\u001b[0m\u001b[0;34m.\u001b[0m\u001b[0mcsv\u001b[0m\u001b[0;34m\u001b[0m\u001b[0;34m\u001b[0m\u001b[0m\n\u001b[0m\u001b[1;32m      2\u001b[0m \u001b[0;32mimport\u001b[0m \u001b[0mPySimpleGUI\u001b[0m \u001b[0;32mas\u001b[0m \u001b[0msg\u001b[0m\u001b[0;34m\u001b[0m\u001b[0;34m\u001b[0m\u001b[0m\n\u001b[1;32m      3\u001b[0m \u001b[0msg\u001b[0m\u001b[0;34m.\u001b[0m\u001b[0mtheme\u001b[0m\u001b[0;34m(\u001b[0m\u001b[0;34m\"Green\"\u001b[0m\u001b[0;34m)\u001b[0m\u001b[0;34m\u001b[0m\u001b[0;34m\u001b[0m\u001b[0m\n\u001b[1;32m      4\u001b[0m \u001b[0mconteudo\u001b[0m\u001b[0;34m=\u001b[0m\u001b[0;34m[\u001b[0m\u001b[0;34m]\u001b[0m\u001b[0;34m\u001b[0m\u001b[0;34m\u001b[0m\u001b[0m\n\u001b[1;32m      5\u001b[0m \u001b[0mBD\u001b[0m \u001b[0;34m=\u001b[0m \u001b[0;32mNone\u001b[0m\u001b[0;34m\u001b[0m\u001b[0;34m\u001b[0m\u001b[0m\n",
      "\u001b[0;31mModuleNotFoundError\u001b[0m: No module named 'emd'"
     ]
    }
   ],
   "source": [
    "import emd.csv \n",
    "import PySimpleGUI as sg\n",
    "sg.theme(\"Green\")\n",
    "conteudo=[]\n",
    "BD = None\n",
    "def janelaMsg(mensagem):\n",
    "    interface = [ \n",
    "        [sg.Text(mensagem)],\n",
    "        [sg.Button(\"Ok\")]\n",
    "    ]\n",
    "    \n",
    "    window1 = sg.Window(title=\"Janela para testes\", font=\"Arial 36\" , default_element_size=(36,1)).Layout(interface)\n",
    "\n",
    "    \n",
    "    stop=False\n",
    "    while not stop:\n",
    "        event,values = window1.read()\n",
    "        if event == \"Ok\" or event == sg.WIN_CLOSED:\n",
    "            stop = True  \n",
    "    window1.close()\n",
    "\n",
    "\n",
    "\n",
    "interfacePrincipal = [[sg.InputText(\"\", font=(\"Arial\", 24), key=\"_opc\")],\n",
    "          [sg.Button(\"Carregar Base de dados\"), sg.Button(\"Listar base de dados\")], \n",
    "          [sg.Button(\"Modalidades\"),sg.Button(\"Distribuições\"), sg.Button(\"Limpar\"), sg.Button(\"Sair\")],\n",
    "          [sg.Listbox(values=conteudo, size=(40,10), key=\"_cont\")]]   \n",
    "\n",
    "window2 = sg.Window(title=\"Trabalhar sobre uma BD\", font=\"Helvetica 24\" , default_element_size=(40,10)).Layout(interfacePrincipal)\n",
    "\n",
    " \n",
    "    \n",
    "def interfaceDistribuicoes(bd):\n",
    "    distr=[]\n",
    "    novainterface= [[sg.Text(\"De que pretende que seja a sua distribuição?\")],\n",
    "                    [sg.Button(\"Modalidades\"), sg.Button(\"Clube\"), sg.Button(\"Ano\"),sg.Button(\"Gráfico\")],\n",
    "                    [sg.Listbox(values=distr, size=(36,10), key=\"_cont2\")],\n",
    "                    [sg.Button(\"Sair\")]]\n",
    "    \n",
    "    window3D = sg.Window(title=\"Janela de Distribuições\", font=\"Arial 20\" , default_element_size=(36,1)).Layout(novainterface)\n",
    "    stopd=False\n",
    "    while not stopd:\n",
    "        event2,values2 = window3D.read()\n",
    "        if event2 == \"Sair\" or event2 == sg.WIN_CLOSED:\n",
    "            stopd = True  \n",
    "        elif event2 == \"Modalidades\":\n",
    "            distr= emd.printdic(emd.distribPorModalidade(BD))\n",
    "            window3D[\"_cont2\"].Update(values=distr)\n",
    "            func=emd.distribPorModalidade(BD)\n",
    "            x=\"Modalidade\"\n",
    "        elif event2 == \"Clube\":\n",
    "            distr = emd.printdic(emd.distribPorClube(BD))\n",
    "            window3D[\"_cont2\"].Update(values=distr)\n",
    "            func=emd.distribPorClube(BD)\n",
    "            x= \"Clube\"\n",
    "        elif event2 == \"Ano\":\n",
    "            distr = emd.printdic(emd.distribPorAno(BD))\n",
    "            window3D[\"_cont2\"].Update(values=distr)\n",
    "            func=emd.distribPorAno(BD)\n",
    "            x=\"Ano\"\n",
    "        elif event2 == \"Gráfico\":\n",
    "            distr = emd.plotdist(func,x)\n",
    "            window3D[\"_cont2\"].Update(values=distr)\n",
    "\n",
    "\n",
    "\n",
    "\n",
    "    window3D.close()\n",
    "\n",
    "\n",
    "stop=False\n",
    "while not stop:\n",
    "    event,values = window2.read()\n",
    "    if event == \"Sair\" or event == sg.WIN_CLOSED:\n",
    "        stop=True\n",
    "    elif event == \"Carregar Base de dados\":\n",
    "        if values[\"_opc\"].count(\".\") != 0:\n",
    "            BD =emd.lerDataset(values[\"_opc\"])\n",
    "            mensagem = \"BD carregada\"\n",
    "            janelaMsg(mensagem)\n",
    "        else:\n",
    "            mensagem = \"Erro: Nenhuma BD a carregar\"\n",
    "            janelaMsg(mensagem)\n",
    "\n",
    "\n",
    "        \n",
    "    elif event == \"Listar base de dados\":\n",
    "        if BD!= None :\n",
    "            conteudo = emd.listarDataset(BD)\n",
    "            window2[\"_cont\"].Update(values=conteudo)\n",
    "        else:\n",
    "            mensagem = \"Erro: Não está nenhuma base de dados carregada\"\n",
    "            janelaMsg(mensagem)\n",
    "            \n",
    "    elif event == \"Limpar\":\n",
    "        conteudo = []\n",
    "        window2[\"_cont\"].Update(values=conteudo)\n",
    "    \n",
    "    elif event == \"Modalidades\":\n",
    "        if BD!=None:\n",
    "            conteudo=emd.modalidades(BD)\n",
    "            window2[\"_cont\"].Update(values=conteudo)\n",
    "        else:\n",
    "            mensagem= \"Erro: Nenhuma BD inserida\"\n",
    "    elif event == \"Distribuições\":\n",
    "        if BD!=None:\n",
    "            interfaceDistribuicoes(BD)\n",
    "        else:\n",
    "            mensagem= \"Erro: Nenhuma BD inserida\"\n",
    "        \n",
    "\n",
    "\n",
    "    else:\n",
    "        print(event + \"\\n\")\n",
    "        print(values)\n",
    "\n",
    "\n",
    "window2.close()"
   ]
  },
  {
   "cell_type": "code",
   "execution_count": null,
   "metadata": {},
   "outputs": [],
   "source": []
  }
 ],
 "metadata": {
  "kernelspec": {
   "display_name": "Python 3",
   "language": "python",
   "name": "python3"
  },
  "language_info": {
   "codemirror_mode": {
    "name": "ipython",
    "version": 3
   },
   "file_extension": ".py",
   "mimetype": "text/x-python",
   "name": "python",
   "nbconvert_exporter": "python",
   "pygments_lexer": "ipython3",
   "version": "3.8.3"
  }
 },
 "nbformat": 4,
 "nbformat_minor": 4
}
