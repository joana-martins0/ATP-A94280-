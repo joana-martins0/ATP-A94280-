{
 "cells": [
  {
   "cell_type": "markdown",
   "metadata": {},
   "source": [
    "# Manifesto"
   ]
  },
  {
   "cell_type": "markdown",
   "metadata": {},
   "source": [
    "---"
   ]
  },
  {
   "cell_type": "markdown",
   "metadata": {},
   "source": [
    "+ **KEY NAME**: TPC3\n",
    "+ **TITLE**: \"Bubble Sort\"\n",
    "+ **SUBTITLE**: Manifesto\n",
    "+ **BEGINING DATA**: \n",
    "+ **ENDING DATA**:\n",
    "+ **SUPERVISOR**: José Carlos Ramalho\n",
    "+ **AUTHOR**: Joana Martins, A9420\n"
   ]
  },
  {
   "cell_type": "markdown",
   "metadata": {},
   "source": [
    "---"
   ]
  },
  {
   "cell_type": "markdown",
   "metadata": {},
   "source": [
    "### **Abstract:**"
   ]
  },
  {
   "cell_type": "markdown",
   "metadata": {},
   "source": [
    "O objetivo do algoritmo é ordenar uma lista, por ordem crescente, através de trocas diretas comparando 2 elementos sucessivos. Para que o programa não faça trocas infinitamente, criei um ciclo \"while\" que recebe uma variável \"Trocas\" que tem o valor True e que passa a False dentro do while e volta a ser True quando ocorre uma troca. Deste modo, quando a lista fica organizada a variável Trocas torna-se False sempre e por isso o ciclo termina.\n",
    "In [ ]:\n",
    "lista=[]"
   ]
  },
  {
   "cell_type": "markdown",
   "metadata": {},
   "source": [
    "---"
   ]
  },
  {
   "cell_type": "markdown",
   "metadata": {},
   "source": [
    "### **Code:**"
   ]
  },
  {
   "cell_type": "code",
   "execution_count": null,
   "metadata": {},
   "outputs": [],
   "source": [
    "# Criar lista à mão\n",
    "def listam():\n",
    "    l=[]\n",
    "    a=int(input(\"Nº de elementos da lista:\"))\n",
    "    for i in range(a):\n",
    "        b=input(\"Diga os elementos:\")\n",
    "        l.append(b)\n",
    "    return l\n",
    "\n",
    "# Cria lista aleatoria\n",
    "def listaa():\n",
    "    import random\n",
    "    l=[]\n",
    "    a=int(input(\"Nº de elementos da lista:\"))\n",
    "    for i in range(a):\n",
    "        b=random.randint(0,100)\n",
    "        l.append(b)\n",
    "    return l\n",
    "\n",
    "# Menu\n",
    "def menu():\n",
    "    print(\"\"\"Gestão de listas de inteiros\n",
    "1) Criar lista à mão\n",
    "2) Criar lista aleatoriamente\n",
    "3) Maior elemento da lista\n",
    "4) Ordenar a lista\n",
    "0) Sair\"\"\")\n",
    "    \n",
    "    \n",
    "# Maior elemento \n",
    "def maior.elemento(l):\n",
    "    maior=l[0]\n",
    "    for i in range(len(l)):\n",
    "        if l[i]>maior:\n",
    "            maior=l[i]\n",
    "    return maior\n",
    "\n",
    "# Ordenar lista\n",
    "def bubblesort(l):\n",
    "    troca=1\n",
    "    while troca==1:\n",
    "        for i in range(len(l)-1):\n",
    "            if l[i]>l[i+1]:\n",
    "                j=l[i+1]\n",
    "                k=l[i]\n",
    "                l[i]=j\n",
    "                l[i+1]=k\n",
    "                bubblesort(l)\n",
    "            else:\n",
    "                troca=0\n",
    "    return l\n",
    "    \n",
    "# Executar o menu\n",
    "opcao=\"1\"\n",
    "while opcao!=\"0\":\n",
    "    menu()\n",
    "    opcao=input(\"Qual a sua opção?\")\n",
    "    if opcao == \"1\":\n",
    "        l=listam()\n",
    "        print(l)\n",
    "    elif opcao== \"2\":\n",
    "        l=listaa()\n",
    "        print(l)\n",
    "    elif opcao==\"0\":\n",
    "        print(\"Ate à proxima\")\n",
    "    elif opcao==\"3\":\n",
    "        print(maiorelemento(l))\n",
    "    elif opcao==\"4\":\n",
    "        print(bubblesort(l))\n",
    "    else:\n",
    "        print(\"Opção invàlida\")"
   ]
  }
 ],
 "metadata": {
  "kernelspec": {
   "display_name": "Python 3",
   "language": "python",
   "name": "python3"
  },
  "language_info": {
   "codemirror_mode": {
    "name": "ipython",
    "version": 3
   },
   "file_extension": ".py",
   "mimetype": "text/x-python",
   "name": "python",
   "nbconvert_exporter": "python",
   "pygments_lexer": "ipython3",
   "version": "3.8.3"
  }
 },
 "nbformat": 4,
 "nbformat_minor": 4
}
